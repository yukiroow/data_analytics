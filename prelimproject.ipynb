{
 "cells": [
  {
   "metadata": {},
   "cell_type": "markdown",
   "source": [
    "# Prelim Project\n",
    "\n",
    "Jupyter Notebook of the Prelim Project for Data Analytics (IT 323)"
   ],
   "id": "6e4069ad0ea4e1ae"
  },
  {
   "metadata": {
    "jupyter": {
     "is_executing": true
    }
   },
   "cell_type": "code",
   "source": [
    "# Importing Data\n",
    "import pandas as pd\n",
    "\n",
    "songs = pd.read_csv('data/spotify.csv')\n",
    "songs"
   ],
   "id": "75b4555944914d8e",
   "outputs": [],
   "execution_count": null
  }
 ],
 "metadata": {
  "kernelspec": {
   "display_name": "Python 3",
   "language": "python",
   "name": "python3"
  },
  "language_info": {
   "codemirror_mode": {
    "name": "ipython",
    "version": 2
   },
   "file_extension": ".py",
   "mimetype": "text/x-python",
   "name": "python",
   "nbconvert_exporter": "python",
   "pygments_lexer": "ipython2",
   "version": "2.7.6"
  }
 },
 "nbformat": 4,
 "nbformat_minor": 5
}
